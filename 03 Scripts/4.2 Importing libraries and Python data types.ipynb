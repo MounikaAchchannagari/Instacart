{
 "cells": [
  {
   "cell_type": "markdown",
   "id": "6d0f0878",
   "metadata": {},
   "source": [
    "# 01. Importing libraries"
   ]
  },
  {
   "cell_type": "code",
   "execution_count": 1,
   "id": "275e0567",
   "metadata": {},
   "outputs": [],
   "source": [
    "# import pandas as pd\n",
    "# import numpy as np\n",
    "# import os"
   ]
  },
  {
   "cell_type": "markdown",
   "id": "b226939a",
   "metadata": {},
   "source": [
    "## 02.Data types"
   ]
  },
  {
   "cell_type": "markdown",
   "id": "f86043ab",
   "metadata": {},
   "source": [
    "### Code 3 different ways of reaching a result of 100 "
   ]
  },
  {
   "cell_type": "code",
   "execution_count": 1,
   "id": "df269aea",
   "metadata": {},
   "outputs": [],
   "source": [
    "a = 50\n",
    "b = 50"
   ]
  },
  {
   "cell_type": "code",
   "execution_count": 2,
   "id": "b79fdbb4",
   "metadata": {},
   "outputs": [],
   "source": [
    "c = a+b"
   ]
  },
  {
   "cell_type": "code",
   "execution_count": 3,
   "id": "520519f2",
   "metadata": {},
   "outputs": [
    {
     "name": "stdout",
     "output_type": "stream",
     "text": [
      "100\n"
     ]
    }
   ],
   "source": [
    "print(c)"
   ]
  },
  {
   "cell_type": "code",
   "execution_count": 4,
   "id": "c01467b8",
   "metadata": {},
   "outputs": [],
   "source": [
    "x =150 \n",
    "y = 50\n",
    "Z = x-y\n"
   ]
  },
  {
   "cell_type": "code",
   "execution_count": 5,
   "id": "3cf58612",
   "metadata": {},
   "outputs": [
    {
     "name": "stdout",
     "output_type": "stream",
     "text": [
      "100\n"
     ]
    }
   ],
   "source": [
    "print(Z)"
   ]
  },
  {
   "cell_type": "code",
   "execution_count": 6,
   "id": "d3dc0a09",
   "metadata": {},
   "outputs": [],
   "source": [
    "x =200 \n",
    "y =50\n",
    "z =150"
   ]
  },
  {
   "cell_type": "code",
   "execution_count": 7,
   "id": "0ed937ed",
   "metadata": {},
   "outputs": [
    {
     "name": "stdout",
     "output_type": "stream",
     "text": [
      "100\n"
     ]
    }
   ],
   "source": [
    "print(x+y-z)"
   ]
  },
  {
   "cell_type": "markdown",
   "id": "0adac261",
   "metadata": {},
   "source": [
    "### Code 2 floating-point variables and divide them by each other"
   ]
  },
  {
   "cell_type": "code",
   "execution_count": 8,
   "id": "2cd4aa86",
   "metadata": {},
   "outputs": [],
   "source": [
    "a = 10.5\n",
    "\n",
    "b = 2.5\n",
    "\n",
    "c = a/b"
   ]
  },
  {
   "cell_type": "code",
   "execution_count": 9,
   "id": "d4c7c4d2",
   "metadata": {},
   "outputs": [
    {
     "name": "stdout",
     "output_type": "stream",
     "text": [
      "4.2\n"
     ]
    }
   ],
   "source": [
    "print(c)"
   ]
  },
  {
   "cell_type": "markdown",
   "id": "6cbcccfa",
   "metadata": {},
   "source": [
    "### String Concatination"
   ]
  },
  {
   "cell_type": "code",
   "execution_count": 17,
   "id": "1b00680a",
   "metadata": {},
   "outputs": [],
   "source": [
    "word1 = 'Data'\n",
    "word2 = 'Analysis'\n",
    "short_word = word1 + \" \" + word2"
   ]
  },
  {
   "cell_type": "code",
   "execution_count": 18,
   "id": "c723dc21",
   "metadata": {},
   "outputs": [
    {
     "name": "stdout",
     "output_type": "stream",
     "text": [
      "Data Analysis\n"
     ]
    }
   ],
   "source": [
    "print(short_word)"
   ]
  },
  {
   "cell_type": "markdown",
   "id": "9b413db6",
   "metadata": {},
   "source": [
    "###  Constructing two short sentences"
   ]
  },
  {
   "cell_type": "code",
   "execution_count": 20,
   "id": "0b98ba2f",
   "metadata": {},
   "outputs": [
    {
     "name": "stdout",
     "output_type": "stream",
     "text": [
      "Data analysis is the process of cleaning, analyzing, interpreting, and visualizing data using various techniques and business intelligence tools. Data analysis tools help you discover relevant insights that lead to smarter and more effective decision-making.\n"
     ]
    }
   ],
   "source": [
    "sentence1 = \"Data analysis is the process of cleaning, analyzing, interpreting, and visualizing data using various techniques and business intelligence tools.\"\n",
    "\n",
    "sentence2 =\"Data analysis tools help you discover relevant insights that lead to smarter and more effective decision-making.\"\n",
    "\n",
    "\n",
    "full_sentence = sentence1 + \" \" + sentence2\n",
    "\n",
    "print(full_sentence)"
   ]
  },
  {
   "cell_type": "markdown",
   "id": "90c67372",
   "metadata": {},
   "source": [
    "### Printing a string 100 times"
   ]
  },
  {
   "cell_type": "code",
   "execution_count": 26,
   "id": "1bad1e64",
   "metadata": {},
   "outputs": [
    {
     "name": "stdout",
     "output_type": "stream",
     "text": [
      "HiHiHiHiHiHiHiHiHiHiHiHiHiHiHiHiHiHiHiHiHiHiHiHiHiHiHiHiHiHiHiHiHiHiHiHiHiHiHiHiHiHiHiHiHiHiHiHiHiHiHiHiHiHiHiHiHiHiHiHiHiHiHiHiHiHiHiHiHiHiHiHiHiHiHiHiHiHiHiHiHiHiHiHiHiHiHiHiHiHiHiHiHiHiHiHiHiHiHiHi\n"
     ]
    }
   ],
   "source": [
    "n = \"Hi\"\n",
    "print(n * 100)"
   ]
  },
  {
   "cell_type": "code",
   "execution_count": null,
   "id": "916197fc",
   "metadata": {},
   "outputs": [],
   "source": []
  }
 ],
 "metadata": {
  "kernelspec": {
   "display_name": "Python 3 (ipykernel)",
   "language": "python",
   "name": "python3"
  },
  "language_info": {
   "codemirror_mode": {
    "name": "ipython",
    "version": 3
   },
   "file_extension": ".py",
   "mimetype": "text/x-python",
   "name": "python",
   "nbconvert_exporter": "python",
   "pygments_lexer": "ipython3",
   "version": "3.9.13"
  }
 },
 "nbformat": 4,
 "nbformat_minor": 5
}
